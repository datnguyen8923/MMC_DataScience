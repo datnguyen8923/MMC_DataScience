{
 "cells": [
  {
   "cell_type": "markdown",
   "id": "44e97a76-2220-4d5c-91d3-96788d1ed62a",
   "metadata": {},
   "source": [
    "## Exercise 1:\n",
    "Question 1:\n",
    "Viết chương trình nhập vào một số thực. Đơn vị tính cho số này là centimet (cm). Hãy in ra số tương đương tính bằng foot (số thực, có 2 số lẻ thập phân) và inch (số thực, có 2 số lẻ thập phân). Với 1 inch = 2.54 cm và 1 foot = 12 inches."
   ]
  },
  {
   "cell_type": "code",
   "execution_count": null,
   "id": "e3717dca-9c63-4221-b4b2-b39899d50532",
   "metadata": {},
   "outputs": [],
   "source": []
  },
  {
   "cell_type": "markdown",
   "id": "df72bb91-b62b-49d8-84d1-9ed6292e5bf3",
   "metadata": {},
   "source": [
    "Question 2:\n",
    "Viết chương trình nhập vào số giây từ 0 tới 68399, đổi số giây này thành dạng [giờ:phút:giây], mỗi thành phần là một số nguyên có 2 chữ số.\n",
    "Ví dụ: 02:11:05"
   ]
  },
  {
   "cell_type": "code",
   "execution_count": 15,
   "id": "fd4087a9-a8b1-486b-9ba8-da2083f1ad94",
   "metadata": {},
   "outputs": [
    {
     "name": "stdout",
     "output_type": "stream",
     "text": [
      "12 : 41 : 24\n"
     ]
    }
   ],
   "source": [
    "def sec(a):\n",
    "    if 0<= a <=86400:\n",
    "        b = round(a/60/60)\n",
    "        c = round((a - b*60*60)/60)\n",
    "        d = a - b*60*60 - c*60\n",
    "        if c < 0:\n",
    "            b = b-1\n",
    "            c = 60+c\n",
    "        if d < 0:\n",
    "            c = c - 1\n",
    "            d = d + 60\n",
    "        print(b,':',c,':',d)\n",
    "    else:\n",
    "        print('a phải nằm trong khoảng từ 0 đến 86400')\n",
    "sec(45684)"
   ]
  },
  {
   "cell_type": "markdown",
   "id": "712d0e62-cc63-4322-84ac-52cb3e2c98e5",
   "metadata": {},
   "source": [
    "Question 3:\r\n",
    "Viết chương trình nhập vào 4 số nguyên.\r\n",
    "Hiển thị ra số lớn nhất và nhỏ nhất\r\n",
    "Ví dụ:\r\n",
    "nhập vào 4 số 1,2,3,4 thì kết quả là:\r\n",
    "Số lớn nhất là: 4\r\n",
    "Số nhỏ nhấtlà: 1\r\n"
   ]
  },
  {
   "cell_type": "code",
   "execution_count": 19,
   "id": "83d9eb2b-698b-4f3f-9f3c-91f65984e74c",
   "metadata": {},
   "outputs": [
    {
     "name": "stdout",
     "output_type": "stream",
     "text": [
      "số lớn nhất là:  96\n",
      "số nhỏ nhất là:  12\n"
     ]
    }
   ],
   "source": [
    "def compare(a,b,c,d):\n",
    "    list = [a,b,c,d]\n",
    "    print('số lớn nhất là: ',max(list))\n",
    "    print('số nhỏ nhất là: ',min(list))\n",
    "compare(48,56,96,12)"
   ]
  },
  {
   "cell_type": "markdown",
   "id": "56b04039-e3ef-4709-9815-577d64705f6c",
   "metadata": {},
   "source": [
    "Question 4:\r\n",
    "Nhập vào hai số tự nhiên a và b. Tính hiệu của hai số đó.\r\n",
    "Nếu hiệu số lớn hơn 0 thì in ra dòng chữ [Số thứ nhất lớn hơn số thứ hai].\r\n",
    "Nếu hiệu số nhỏ hơn 0 thì in ra dòng chữ [Số thứ nhất nhỏ hơn số thứ ha].\r\n"
   ]
  },
  {
   "cell_type": "code",
   "execution_count": 22,
   "id": "28ac1412-acc0-439d-9e39-ddff3fc4574c",
   "metadata": {},
   "outputs": [
    {
     "name": "stdout",
     "output_type": "stream",
     "text": [
      "Hiệu hai số là -5\n",
      "45 bé hơn 50\n"
     ]
    }
   ],
   "source": [
    "def compares(a,b):\n",
    "    print('Hiệu hai số là',a-b)\n",
    "    if a - b < 0:\n",
    "        print(a,'bé hơn',b)\n",
    "    if a - b > 0:\n",
    "        print(a,'lớn hơn',b)\n",
    "compares(45,50)"
   ]
  },
  {
   "cell_type": "markdown",
   "id": "3edd81f2-57fe-4feb-b5d0-f0a5b81778dd",
   "metadata": {},
   "source": [
    "Question 5:\n",
    "Nhập vào 2 số tự nhiên a và b. Kiểm tra xem a có chia hết cho b không"
   ]
  },
  {
   "cell_type": "code",
   "execution_count": 25,
   "id": "6f3a0477-f266-40e0-8713-6764a6f84c6c",
   "metadata": {},
   "outputs": [
    {
     "name": "stdout",
     "output_type": "stream",
     "text": [
      "45 chia hết cho 5\n"
     ]
    }
   ],
   "source": [
    "def div(a,b):\n",
    "    if a%b==0:\n",
    "        print(a,'chia hết cho',b)\n",
    "    else:\n",
    "        print(a,'không chia hết cho',b)\n",
    "div(45,5)"
   ]
  },
  {
   "cell_type": "markdown",
   "id": "10fa3d55-5c2d-492f-babe-46f9c0fef4ab",
   "metadata": {},
   "source": [
    "Question 6:\n",
    "Xếp loại sinh viên theo các quy luật dưới đây:\n",
    "Nếu điểm >= 9.0 - Loại xuất sắc\n",
    "Nếu 8.0<= điểm < 9.0 - Loại giỏi\n",
    "Nếu 7.0<= điểm < 8.0 - Loại khá\n",
    "Nếu 6.0 <= điểm < 7.0 - Loại trung bình khá\n",
    "Nếu 5.0 <= điểm < 6.0 - Loại trung bình\n",
    "Nếu điểm < 5.0 - Loại kém\n",
    "Với điểm = ( (điểm toán)*2 + điểm lý + điểm hóa )/4\n",
    "Viết Chương trình:\n",
    "a. Nhập vào điểm 3 môn học\n",
    "b. Tính điểm trung bình\n",
    "c. Xác định học lực của học sinh dựa trên điểm trung bình\n",
    "d. Hiển thị học lực của học sinh"
   ]
  },
  {
   "cell_type": "code",
   "execution_count": 33,
   "id": "ba827250-487b-464c-9770-ef3280c99cdf",
   "metadata": {},
   "outputs": [
    {
     "name": "stdout",
     "output_type": "stream",
     "text": [
      "điểm trung bình là 6.25\n",
      "loại trung bình khá\n",
      "điểm trung bình là 7.25\n",
      "loại khá\n"
     ]
    }
   ],
   "source": [
    "def average(maths = 0, physics = 0, chemistry = 0):\n",
    "    d = (maths*2 + physics + chemistry)/4\n",
    "    print('điểm trung bình là',d)\n",
    "    if d >= 9:\n",
    "        print('loại xuất sắc')\n",
    "    elif 8 <= d < 9:\n",
    "        print('loại giỏi')\n",
    "    elif 7 <= d < 8:\n",
    "        print('loại khá')\n",
    "    elif 6 <= d < 7:\n",
    "        print('loại trung bình khá')\n",
    "    elif 5 <= d <6:\n",
    "        print('loại trung bình')\n",
    "    else:\n",
    "        print('loại kém')\n",
    "average(maths = 9,physics = 4,chemistry = 3)\n",
    "average(8,6,7)"
   ]
  },
  {
   "cell_type": "markdown",
   "id": "87de4c96-3b1d-49c8-95b9-af7673c10eb3",
   "metadata": {},
   "source": [
    "## Exercise 2:\n",
    "Question 1:\n",
    "Hãy viết chương trình tính tổng các chữ số của một số nguyên bất kỳ.\n",
    "Ví dụ: Số 8545604 có tổng các chữ số là: 8+5+4+5+6+0+4= 32"
   ]
  },
  {
   "cell_type": "code",
   "execution_count": 35,
   "id": "dd671cbf-ae26-4db9-832c-1d47aba773e8",
   "metadata": {},
   "outputs": [
    {
     "name": "stdout",
     "output_type": "stream",
     "text": [
      "55\n"
     ]
    }
   ],
   "source": [
    "def sum_list(a):\n",
    "    a_str = str(a)\n",
    "    a_list=[]\n",
    "    for i in a_str:\n",
    "        a_list.append(int(i))\n",
    "    print(sum(a_list))\n",
    "sum_list(89658874)"
   ]
  },
  {
   "cell_type": "markdown",
   "id": "22ca1b0b-2d55-474d-bf93-6f9dad6a9879",
   "metadata": {},
   "source": [
    "Question 2:\n",
    "Viết chương trình phân tích một số nguyên thành các thừa số nguyên tố\n",
    "Ví dụ: Số 28 được phân tích thành 2 x 2 x 7"
   ]
  },
  {
   "cell_type": "code",
   "execution_count": 46,
   "id": "7b59dc59-2981-4d9d-8371-037a621e597c",
   "metadata": {},
   "outputs": [
    {
     "data": {
      "text/plain": [
       "[2, 2, 3, 3, 19]"
      ]
     },
     "execution_count": 46,
     "metadata": {},
     "output_type": "execute_result"
    }
   ],
   "source": [
    "def so_nguyen_to(a):\n",
    "    factors = []\n",
    "    b = 2\n",
    "    while a>1:\n",
    "        while a%b ==0:\n",
    "            factors.append(b)\n",
    "            a = a//b\n",
    "        b= b+1\n",
    "    return factors\n",
    "    print(factors)\n",
    "so_nguyen_to(684)  "
   ]
  },
  {
   "cell_type": "markdown",
   "id": "f481a63e-5d70-4c68-8a09-dd9dd2f8f1bc",
   "metadata": {},
   "source": [
    "Question 3:\n",
    "Viết chương trình liệt kê tất cả các số nguyên tố nhỏ hơn n cho trước."
   ]
  },
  {
   "cell_type": "code",
   "execution_count": 59,
   "id": "befd768c-bb37-49df-a5ac-92bb96a7c875",
   "metadata": {},
   "outputs": [
    {
     "name": "stdout",
     "output_type": "stream",
     "text": [
      "[2, 3, 5, 7, 11, 13, 17, 19, 23, 29, 31]\n"
     ]
    }
   ],
   "source": [
    "def la_so_nguyen_to(a):\n",
    "    list_snt=[]\n",
    "    for i in range(2,a):\n",
    "        is_prime=True\n",
    "        for b in range(2,i):\n",
    "            if i%b==0:\n",
    "                is_prime=False\n",
    "                break\n",
    "        if is_prime:\n",
    "            list_snt.append(i)\n",
    "    print(list_snt)\n",
    "la_so_nguyen_to(36)   "
   ]
  },
  {
   "cell_type": "markdown",
   "id": "67a69aa6-656d-4fb9-a1e7-9f3b3c94a1ff",
   "metadata": {},
   "source": [
    "Question 4:\n",
    "Viết chương trình liệt kê n số nguyên tố đầu tiên."
   ]
  },
  {
   "cell_type": "code",
   "execution_count": 6,
   "id": "bddf9808-ddb8-432f-b900-467fd3029e7e",
   "metadata": {},
   "outputs": [
    {
     "name": "stdout",
     "output_type": "stream",
     "text": [
      "[2, 3, 5, 7, 11, 13, 17, 19, 23, 29]\n"
     ]
    }
   ],
   "source": [
    "def so_nguyen_to(n):\n",
    "    i = 5\n",
    "    if n < 1:\n",
    "        return []  # Return an empty list if no primes are requested\n",
    "    primes = [2]  # Start with the first prime number\n",
    "    if n == 1:\n",
    "        print(primes)\n",
    "        return\n",
    "    primes.append(3)  # The second prime number\n",
    "    if n == 2:\n",
    "        print(primes)\n",
    "        return\n",
    "    if n > 2:\n",
    "        while len(primes) < n:\n",
    "            is_prime = True\n",
    "            for b in range(2, i):\n",
    "                if i%b ==0:\n",
    "                    is_prime = False\n",
    "                    break\n",
    "            if is_prime == True:\n",
    "                primes.append(i)\n",
    "            i = i+2\n",
    "        print(primes)\n",
    "        return\n",
    "so_nguyen_to(10)"
   ]
  },
  {
   "cell_type": "markdown",
   "id": "dc33c867-588c-4812-b0f1-fb31801acc03",
   "metadata": {},
   "source": [
    "Question 5:\n",
    "Viết chương trình tìm ước số chung lớn nhất, bội số chung nhỏ nhất của hai số tự nhiên a và b."
   ]
  },
  {
   "cell_type": "code",
   "execution_count": null,
   "id": "3da319e4-5645-4c5e-997e-56e2ec9fed02",
   "metadata": {},
   "outputs": [],
   "source": [
    "def UCLN_BCNN(a,b):\n",
    "    a_factors = []\n",
    "    x = 2\n",
    "    while a>1:\n",
    "        while a%x ==0:\n",
    "            a_factors.append(x)\n",
    "            a = a//x\n",
    "        x= x+1\n",
    "    return factors\n",
    "    print(a_factors)\n",
    "    b_factors = []\n",
    "    y = 2\n",
    "    while b>1:\n",
    "        while b%y ==0:\n",
    "            b_factors.append(y)\n",
    "            b = b//y\n",
    "        y = y +1\n",
    "    print(b_factors)\n",
    "UCLN_BCNN(58,60)"
   ]
  },
  {
   "cell_type": "markdown",
   "id": "f8db23ee-e489-45b1-b5e7-487a02ddbd31",
   "metadata": {},
   "source": [
    "Dãy số Fibonacci được định nghĩa như sau:\n",
    "F0 =1, F1 = 1; Fn = Fn-1 + Fn-2 với n>=2.\n",
    "Hãy viết chương trình tìm số Fibonacci thứ n."
   ]
  },
  {
   "cell_type": "code",
   "execution_count": null,
   "id": "93aa1297-4fdc-43b3-80cf-6c2835eba82c",
   "metadata": {},
   "outputs": [],
   "source": [
    "def Fibonacci(n):\n",
    "    F=[1,1]\n",
    "    for i in range(n):\n",
    "        F[n] = F[n-1] + F[n-2]\n",
    "Fibonacci(5)"
   ]
  },
  {
   "cell_type": "code",
   "execution_count": null,
   "id": "258f5681-4df1-409d-8aa0-176aa3495553",
   "metadata": {},
   "outputs": [],
   "source": []
  }
 ],
 "metadata": {
  "kernelspec": {
   "display_name": "Python 3 (ipykernel)",
   "language": "python",
   "name": "python3"
  },
  "language_info": {
   "codemirror_mode": {
    "name": "ipython",
    "version": 3
   },
   "file_extension": ".py",
   "mimetype": "text/x-python",
   "name": "python",
   "nbconvert_exporter": "python",
   "pygments_lexer": "ipython3",
   "version": "3.11.7"
  }
 },
 "nbformat": 4,
 "nbformat_minor": 5
}
