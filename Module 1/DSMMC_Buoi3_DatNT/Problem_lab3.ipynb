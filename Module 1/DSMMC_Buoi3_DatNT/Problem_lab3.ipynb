{
 "cells": [
  {
   "cell_type": "markdown",
   "id": "faa40087-35b2-46fc-b5cb-0205bc3045bf",
   "metadata": {},
   "source": [
    "Bài 1: Chữ số La Mã"
   ]
  },
  {
   "cell_type": "code",
   "execution_count": 15,
   "id": "26a9653a-14e3-4e39-be7d-4cce907d2cba",
   "metadata": {},
   "outputs": [
    {
     "name": "stdout",
     "output_type": "stream",
     "text": [
      "['M', 'C', 'M', 'X', 'C', 'I', 'V']\n",
      "['M', 'CM', 'XC', 'IV']\n",
      "số la mã MCMXCIV là 1994\n"
     ]
    }
   ],
   "source": [
    "lama = {'I':1,\n",
    "        'V':5,\n",
    "        'X':10,\n",
    "        'L':50,\n",
    "        'C':100,\n",
    "        'D':500,\n",
    "        'M':1000,\n",
    "        'IV':4,\n",
    "       'IX':9,\n",
    "       'XL':40,\n",
    "       'XC':90,\n",
    "       'CD':400,\n",
    "       'CM':900}\n",
    "\n",
    "def dich_so_la_ma(n):\n",
    "    list1 = list(n)\n",
    "    print(list1)\n",
    "    i=0\n",
    "    while i < len(list1):\n",
    "        if list1[i] == 'I' and (list1[i+1] == 'V' or list1[i+1] == 'X'):\n",
    "            list1[i] = list1[i] + list1[i+1]\n",
    "            del list1[i+1]\n",
    "        elif list1[i] == 'X' and (list1[i+1] == 'L' or list1[i+1] == 'C'):\n",
    "            list1[i] = list1[i] + list1[i+1]\n",
    "            del list1[i+1]\n",
    "        elif list1[i] == 'C' and (list1[i+1] == 'D' or list1[i+1] == 'M'):\n",
    "            list1[i] = list1[i] + list1[i+1]\n",
    "            del list1[i+1]\n",
    "        i += 1\n",
    "    print(list1)\n",
    "    d = 0\n",
    "    for i in range(len(list1)):\n",
    "        d += lama[list1[i]]\n",
    "    print('số la mã',n,'l',d)\n",
    "dich_so_la_ma('MCMXCIV')"
   ]
  },
  {
   "cell_type": "markdown",
   "id": "cc799d3a-c84b-4281-9f9e-77ad89eebda1",
   "metadata": {},
   "source": [
    "Bài 2: Tìm số FA"
   ]
  },
  {
   "cell_type": "code",
   "execution_count": null,
   "id": "ea82c813-ae0d-4b44-9337-1a83369a3d2e",
   "metadata": {},
   "outputs": [],
   "source": []
  }
 ],
 "metadata": {
  "kernelspec": {
   "display_name": "Python 3 (ipykernel)",
   "language": "python",
   "name": "python3"
  },
  "language_info": {
   "codemirror_mode": {
    "name": "ipython",
    "version": 3
   },
   "file_extension": ".py",
   "mimetype": "text/x-python",
   "name": "python",
   "nbconvert_exporter": "python",
   "pygments_lexer": "ipython3",
   "version": "3.11.7"
  }
 },
 "nbformat": 4,
 "nbformat_minor": 5
}
