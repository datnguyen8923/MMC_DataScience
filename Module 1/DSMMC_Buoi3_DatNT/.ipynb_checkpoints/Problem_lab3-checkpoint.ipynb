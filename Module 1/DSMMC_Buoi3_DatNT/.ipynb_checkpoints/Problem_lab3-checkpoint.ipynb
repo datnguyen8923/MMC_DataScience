{
 "cells": [
  {
   "cell_type": "code",
   "execution_count": 24,
   "id": "26a9653a-14e3-4e39-be7d-4cce907d2cba",
   "metadata": {},
   "outputs": [
    {
     "name": "stdout",
     "output_type": "stream",
     "text": [
      "['M', 'C', 'M', 'X', 'C', 'I', 'V']\n"
     ]
    },
    {
     "ename": "IndexError",
     "evalue": "list index out of range",
     "output_type": "error",
     "traceback": [
      "\u001b[1;31m---------------------------------------------------------------------------\u001b[0m",
      "\u001b[1;31mIndexError\u001b[0m                                Traceback (most recent call last)",
      "Cell \u001b[1;32mIn[24], line 34\u001b[0m\n\u001b[0;32m     32\u001b[0m         d \u001b[38;5;241m+\u001b[39m\u001b[38;5;241m=\u001b[39m lama[list1[i]]\n\u001b[0;32m     33\u001b[0m     \u001b[38;5;28mprint\u001b[39m(d)\n\u001b[1;32m---> 34\u001b[0m dich_so_la_ma(\u001b[38;5;124m'\u001b[39m\u001b[38;5;124mMCMXCIV\u001b[39m\u001b[38;5;124m'\u001b[39m)\n",
      "Cell \u001b[1;32mIn[24], line 20\u001b[0m, in \u001b[0;36mdich_so_la_ma\u001b[1;34m(n)\u001b[0m\n\u001b[0;32m     18\u001b[0m i\u001b[38;5;241m=\u001b[39m\u001b[38;5;241m0\u001b[39m\n\u001b[0;32m     19\u001b[0m \u001b[38;5;28;01mfor\u001b[39;00m i \u001b[38;5;129;01min\u001b[39;00m \u001b[38;5;28mrange\u001b[39m(\u001b[38;5;28mlen\u001b[39m(list1)\u001b[38;5;241m-\u001b[39m\u001b[38;5;241m2\u001b[39m):\n\u001b[1;32m---> 20\u001b[0m     \u001b[38;5;28;01mif\u001b[39;00m list1[i] \u001b[38;5;241m==\u001b[39m \u001b[38;5;124m'\u001b[39m\u001b[38;5;124mI\u001b[39m\u001b[38;5;124m'\u001b[39m \u001b[38;5;129;01mand\u001b[39;00m (list1[i\u001b[38;5;241m+\u001b[39m\u001b[38;5;241m1\u001b[39m] \u001b[38;5;241m==\u001b[39m \u001b[38;5;124m'\u001b[39m\u001b[38;5;124mV\u001b[39m\u001b[38;5;124m'\u001b[39m \u001b[38;5;129;01mor\u001b[39;00m list1[i\u001b[38;5;241m+\u001b[39m\u001b[38;5;241m1\u001b[39m] \u001b[38;5;241m==\u001b[39m \u001b[38;5;124m'\u001b[39m\u001b[38;5;124mX\u001b[39m\u001b[38;5;124m'\u001b[39m):\n\u001b[0;32m     21\u001b[0m         list1[i] \u001b[38;5;241m=\u001b[39m list1[i] \u001b[38;5;241m+\u001b[39m list1[i\u001b[38;5;241m+\u001b[39m\u001b[38;5;241m1\u001b[39m]\n\u001b[0;32m     22\u001b[0m         \u001b[38;5;28;01mdel\u001b[39;00m list1[i\u001b[38;5;241m+\u001b[39m\u001b[38;5;241m1\u001b[39m]\n",
      "\u001b[1;31mIndexError\u001b[0m: list index out of range"
     ]
    }
   ],
   "source": [
    "lama = {'I':1,\n",
    "        'V':5,\n",
    "        'X':10,\n",
    "        'L':50,\n",
    "        'C':100,\n",
    "        'D':500,\n",
    "        'M':1000,\n",
    "        'IV':4,\n",
    "       'IX':9,\n",
    "       'XL':40,\n",
    "       'XC':90,\n",
    "       'CD':400,\n",
    "       'CM':900}\n",
    "\n",
    "def dich_so_la_ma(n):\n",
    "    list1 = list(n)\n",
    "    print(list1)\n",
    "    i=0\n",
    "    for i in range(len(list1)-1):\n",
    "        if list1[i] == 'I' and (list1[i+1] == 'V' or list1[i+1] == 'X'):\n",
    "            list1[i] = list1[i] + list1[i+1]\n",
    "            del list1[i+1]\n",
    "        elif list1[i] == 'X' and (list1[i+1] == 'L' or list1[i+1] == 'C'):\n",
    "            list1[i] = list1[i] + list1[i+1]\n",
    "            del list1[i+1]\n",
    "        elif list1[i] == 'C' and (list1[i+1] == 'D' or list1[i+1] == 'M'):\n",
    "            list1[i] = list1[i] + list1[i+1]\n",
    "            del list1[i+1]\n",
    "    print(list1)\n",
    "    d = 0\n",
    "    for i in range(len(list1)):\n",
    "        d += lama[list1[i]]\n",
    "    print(d)\n",
    "dich_so_la_ma('MCMXCIV')"
   ]
  },
  {
   "cell_type": "code",
   "execution_count": 22,
   "id": "2dce60b1-3bea-45af-8366-98e81e668d28",
   "metadata": {},
   "outputs": [
    {
     "data": {
      "text/plain": [
       "range(0, 9)"
      ]
     },
     "execution_count": 22,
     "metadata": {},
     "output_type": "execute_result"
    }
   ],
   "source": [
    "list2 = [0,1,2,3,4,5,6,7,8,9]\n",
    "range(len(list2)-1)"
   ]
  },
  {
   "cell_type": "code",
   "execution_count": null,
   "id": "b36732c5-b313-4cd4-b451-fb4007906af4",
   "metadata": {},
   "outputs": [],
   "source": []
  }
 ],
 "metadata": {
  "kernelspec": {
   "display_name": "Python 3 (ipykernel)",
   "language": "python",
   "name": "python3"
  },
  "language_info": {
   "codemirror_mode": {
    "name": "ipython",
    "version": 3
   },
   "file_extension": ".py",
   "mimetype": "text/x-python",
   "name": "python",
   "nbconvert_exporter": "python",
   "pygments_lexer": "ipython3",
   "version": "3.11.7"
  }
 },
 "nbformat": 4,
 "nbformat_minor": 5
}
