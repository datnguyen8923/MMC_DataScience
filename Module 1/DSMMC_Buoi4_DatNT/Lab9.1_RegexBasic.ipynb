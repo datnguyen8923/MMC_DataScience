{
 "cells": [
  {
   "cell_type": "code",
   "execution_count": 1,
   "id": "8d63c4b7-a485-4852-91ca-ccfe8122d1c1",
   "metadata": {},
   "outputs": [
    {
     "name": "stdout",
     "output_type": "stream",
     "text": [
      "['0987654321']\n"
     ]
    }
   ],
   "source": [
    "import re\n",
    "\n",
    "def extract_phone_numbers(text):\n",
    "    phone_pattern = r'\\b0\\d{9}\\b'\n",
    "    phone_numbers = re.findall(phone_pattern, text)\n",
    "    return phone_numbers\n",
    "\n",
    "# Example usage:\n",
    "text = \"Liên hệ với tôi qua số điện thoại 0987654321.\"\n",
    "print(extract_phone_numbers(text))"
   ]
  },
  {
   "cell_type": "code",
   "execution_count": 10,
   "id": "dc9486e3-1446-410b-9647-b87dcc9e3941",
   "metadata": {},
   "outputs": [
    {
     "name": "stdout",
     "output_type": "stream",
     "text": [
      "['example@gmail.com', 'contact@domain.com.']\n"
     ]
    }
   ],
   "source": [
    "import re\n",
    "\n",
    "def extract_emails(text):\n",
    "    email_pattern = r'\\S+@\\S+'\n",
    "    emails = re.findall(email_pattern, text)\n",
    "    return emails\n",
    "\n",
    "# Example usage:\n",
    "text = \"Email liên hệ: example@gmail.com hoặc contact@domain.com.\"\n",
    "print(extract_emails(text))"
   ]
  },
  {
   "cell_type": "code",
   "execution_count": 2,
   "id": "18823d19-a957-4dd7-9fd5-2a049ef3273d",
   "metadata": {},
   "outputs": [
    {
     "name": "stdout",
     "output_type": "stream",
     "text": [
      "Phone numbers: ['0825294200']\n",
      "Emails: ['contact@example.com', 'support@domain.com']\n"
     ]
    }
   ],
   "source": [
    "def extract_phone_and_emails(html):\n",
    "    phone_pattern = r'\\b0\\d{9}\\b'\n",
    "    email_pattern = r'\\b[A-Za-z0-9._%+-]+@[A-Za-z0-9.-]+\\.[A-Z|a-z]{2,}\\b'\n",
    "    phones = re.findall(phone_pattern, html)\n",
    "    emails = re.findall(email_pattern, html)\n",
    "    return phones, emails\n",
    "\n",
    "# Example usage:\n",
    "html_code = \"\"\"\n",
    "<html>\n",
    "<body>\n",
    "<p>Liên hệ qua số điện thoại: 0825294200 hoặc email: contact@example.com.</p>\n",
    "<p>Hỗ trợ: support@domain.com</p>\n",
    "</body>\n",
    "</html>\n",
    "\"\"\"\n",
    "phones, emails = extract_phone_and_emails(html_code)\n",
    "print(\"Phone numbers:\", phones)\n",
    "print(\"Emails:\", emails)"
   ]
  },
  {
   "cell_type": "code",
   "execution_count": null,
   "id": "907f9805-80d4-4b91-9d8b-c42668fa6163",
   "metadata": {},
   "outputs": [],
   "source": []
  }
 ],
 "metadata": {
  "kernelspec": {
   "display_name": "Python 3 (ipykernel)",
   "language": "python",
   "name": "python3"
  },
  "language_info": {
   "codemirror_mode": {
    "name": "ipython",
    "version": 3
   },
   "file_extension": ".py",
   "mimetype": "text/x-python",
   "name": "python",
   "nbconvert_exporter": "python",
   "pygments_lexer": "ipython3",
   "version": "3.11.7"
  }
 },
 "nbformat": 4,
 "nbformat_minor": 5
}
