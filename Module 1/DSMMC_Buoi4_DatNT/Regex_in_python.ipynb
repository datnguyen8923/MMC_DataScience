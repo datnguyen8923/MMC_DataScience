{
 "cells": [
  {
   "cell_type": "code",
   "execution_count": 1,
   "id": "6978c72a-fc79-444d-8cac-e912255f407a",
   "metadata": {},
   "outputs": [
    {
     "name": "stdout",
     "output_type": "stream",
     "text": [
      "['Bạn', 'Bạn']\n"
     ]
    }
   ],
   "source": [
    "import re\n",
    "str = \"Xin chào Bạn! Bạn đang học bài Regex trong Python.\"\n",
    "matches = re.findall(\"Bạn\", str)\n",
    "print(matches)"
   ]
  },
  {
   "cell_type": "code",
   "execution_count": 2,
   "id": "ee7ec4de-24ff-400d-9e01-14e732e8fe11",
   "metadata": {},
   "outputs": [
    {
     "name": "stdout",
     "output_type": "stream",
     "text": [
      "['M', 'M']\n"
     ]
    }
   ],
   "source": [
    "print(re.findall(\"[A-Z]\", 'MetaMind'))"
   ]
  },
  {
   "cell_type": "code",
   "execution_count": 3,
   "id": "6eca150a-15a0-4c71-bd83-31601d256e42",
   "metadata": {},
   "outputs": [
    {
     "data": {
      "text/plain": [
       "'R'"
      ]
     },
     "execution_count": 3,
     "metadata": {},
     "output_type": "execute_result"
    }
   ],
   "source": [
    "lst = re.findall(\"[A-Z]\", str)\n",
    "lst[3]"
   ]
  },
  {
   "cell_type": "code",
   "execution_count": 4,
   "id": "723fa105-11d3-47c6-bfb8-bc583b7f3454",
   "metadata": {},
   "outputs": [
    {
     "name": "stdout",
     "output_type": "stream",
     "text": [
      "<re.Match object; span=(10, 15), match='12345'>\n",
      "\n",
      "['T', 'L', 'N', 'K', 'T']\n",
      "['T', 'Đ', 'L', 'N', 'K', 'T']\n",
      "\n",
      "['Thành viên gồm', 'Đăng', 'Linh', 'Nhã', 'Khôi', 'Tuấn']\n",
      "\n",
      "Mã OTP là 00000, có hiệu lực trong 0 phút.\n"
     ]
    }
   ],
   "source": [
    "import regex\n",
    "print(re.search(r'\\d{5}', \"Mã OTP là 12345, có hiệu lực trong 1 phút.\"))\n",
    "print()\n",
    "\n",
    "print(re.findall(r'[A-Z]', \"Thành viên gồm: Đăng, Linh, Nhã, Khôi, Tuấn\"))\n",
    "print(regex.findall(r'\\p{Lu}', \"Thành viên gồm: Đăng, Linh, Nhã, Khôi, Tuấn\"))\n",
    "print()\n",
    "\n",
    "print(re.split(r': |, ', \"Thành viên gồm: Đăng, Linh, Nhã, Khôi, Tuấn\"))\n",
    "print()\n",
    "\n",
    "print(re.sub(r'[0-9]', '0', \"Mã OTP là 12345, có hiệu lực trong 1 phút.\"))"
   ]
  },
  {
   "cell_type": "code",
   "execution_count": 5,
   "id": "1574479c-a489-4923-9c61-3ab433e82478",
   "metadata": {},
   "outputs": [
    {
     "name": "stdout",
     "output_type": "stream",
     "text": [
      "Mã OTP là 00000, có hiệu lực trong 0 phút.\n"
     ]
    }
   ],
   "source": [
    "import regex\n",
    "print(re.sub(r'[0-9]', '0', \"Mã OTP là 12345, có hiệu lực trong 1 phút.\"))"
   ]
  },
  {
   "cell_type": "code",
   "execution_count": null,
   "id": "b4a0e352-8bc4-4ea4-8352-5db195780241",
   "metadata": {},
   "outputs": [],
   "source": []
  }
 ],
 "metadata": {
  "kernelspec": {
   "display_name": "Python 3 (ipykernel)",
   "language": "python",
   "name": "python3"
  },
  "language_info": {
   "codemirror_mode": {
    "name": "ipython",
    "version": 3
   },
   "file_extension": ".py",
   "mimetype": "text/x-python",
   "name": "python",
   "nbconvert_exporter": "python",
   "pygments_lexer": "ipython3",
   "version": "3.11.7"
  }
 },
 "nbformat": 4,
 "nbformat_minor": 5
}
