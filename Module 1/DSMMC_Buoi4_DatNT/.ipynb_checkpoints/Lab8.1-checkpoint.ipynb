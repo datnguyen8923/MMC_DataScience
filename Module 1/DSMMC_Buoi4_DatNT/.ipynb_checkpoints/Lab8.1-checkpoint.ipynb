{
 "cells": [
  {
   "cell_type": "code",
   "execution_count": 1,
   "id": "0ccf9527-3b12-4a97-ab50-faf011d91b0b",
   "metadata": {},
   "outputs": [
    {
     "data": {
      "text/plain": [
       "('Example1.txt', <http.client.HTTPMessage at 0x1928e8b9b10>)"
      ]
     },
     "execution_count": 1,
     "metadata": {},
     "output_type": "execute_result"
    }
   ],
   "source": [
    "import urllib.request\n",
    "url = 'https://cf-courses-data.s3.us.cloud-object-storage.appdomain.cloud/IBMDeveloperSkillsNetwork-PY0101EN-SkillsNetwork/labs/Module%204/data/example1.txt'\n",
    "filename = 'Example1.txt'\n",
    "urllib.request.urlretrieve(url, filename)"
   ]
  },
  {
   "cell_type": "code",
   "execution_count": 8,
   "id": "e15186a4-d486-4a50-824e-63d14a384e62",
   "metadata": {},
   "outputs": [],
   "source": [
    "example1 = \"Example1.txt\"\n",
    "file1 = open(example1, \"r\")"
   ]
  },
  {
   "cell_type": "code",
   "execution_count": 9,
   "id": "be379913-0993-4916-b843-cfb066572aa4",
   "metadata": {},
   "outputs": [
    {
     "data": {
      "text/plain": [
       "'Example1.txt'"
      ]
     },
     "execution_count": 9,
     "metadata": {},
     "output_type": "execute_result"
    }
   ],
   "source": [
    "file1.name"
   ]
  },
  {
   "cell_type": "code",
   "execution_count": 10,
   "id": "0cf5a600-2cd4-4be7-b920-11b88ac8d1c4",
   "metadata": {},
   "outputs": [
    {
     "data": {
      "text/plain": [
       "'r'"
      ]
     },
     "execution_count": 10,
     "metadata": {},
     "output_type": "execute_result"
    }
   ],
   "source": [
    "file1.mode"
   ]
  },
  {
   "cell_type": "code",
   "execution_count": 11,
   "id": "86089017-8212-4216-a010-c0d7da02166a",
   "metadata": {},
   "outputs": [
    {
     "data": {
      "text/plain": [
       "'This is line 1 \\nThis is line 2\\nThis is line 3'"
      ]
     },
     "execution_count": 11,
     "metadata": {},
     "output_type": "execute_result"
    }
   ],
   "source": [
    "FileContent = file1.read()\n",
    "FileContent"
   ]
  },
  {
   "cell_type": "code",
   "execution_count": 12,
   "id": "867f221f-cc30-483d-8262-3ebfa339625b",
   "metadata": {},
   "outputs": [
    {
     "name": "stdout",
     "output_type": "stream",
     "text": [
      "This is line 1 \n",
      "This is line 2\n",
      "This is line 3\n"
     ]
    }
   ],
   "source": [
    "print(FileContent)"
   ]
  },
  {
   "cell_type": "code",
   "execution_count": 13,
   "id": "618a6d36-e609-4875-b224-9e609b9c66af",
   "metadata": {},
   "outputs": [
    {
     "data": {
      "text/plain": [
       "str"
      ]
     },
     "execution_count": 13,
     "metadata": {},
     "output_type": "execute_result"
    }
   ],
   "source": [
    "type(FileContent)"
   ]
  },
  {
   "cell_type": "code",
   "execution_count": 14,
   "id": "5ac4bf10-902e-4f5f-a0d6-b7df506a15c9",
   "metadata": {},
   "outputs": [],
   "source": [
    "file1.close()"
   ]
  },
  {
   "cell_type": "code",
   "execution_count": 15,
   "id": "547954d9-4057-4c6c-88be-4500edc9d5d4",
   "metadata": {},
   "outputs": [
    {
     "name": "stdout",
     "output_type": "stream",
     "text": [
      "This is line 1 \n",
      "This is line 2\n",
      "This is line 3\n"
     ]
    }
   ],
   "source": [
    "# Open file using with\n",
    "\n",
    "with open(example1, \"r\") as file1:\n",
    "    FileContent = file1.read()\n",
    "    print(FileContent)"
   ]
  },
  {
   "cell_type": "code",
   "execution_count": 16,
   "id": "d507926b-c471-4579-8723-6e6d18b6ef05",
   "metadata": {},
   "outputs": [
    {
     "data": {
      "text/plain": [
       "True"
      ]
     },
     "execution_count": 16,
     "metadata": {},
     "output_type": "execute_result"
    }
   ],
   "source": [
    "# Verify if the file is closed\n",
    "\n",
    "file1.closed"
   ]
  },
  {
   "cell_type": "code",
   "execution_count": 17,
   "id": "169639d8-59c1-4060-85eb-099ef5d0463f",
   "metadata": {},
   "outputs": [
    {
     "name": "stdout",
     "output_type": "stream",
     "text": [
      "This is line 1 \n",
      "This is line 2\n",
      "This is line 3\n"
     ]
    }
   ],
   "source": [
    "# See the content of file\n",
    "\n",
    "print(FileContent)"
   ]
  },
  {
   "cell_type": "code",
   "execution_count": 21,
   "id": "07b69b2d-389a-4277-b336-61a1d98e4acd",
   "metadata": {},
   "outputs": [
    {
     "name": "stdout",
     "output_type": "stream",
     "text": [
      "This\n"
     ]
    }
   ],
   "source": [
    "# Read first four characters\n",
    "\n",
    "with open(example1, \"r\") as file1:\n",
    "    print(file1.read(4))"
   ]
  },
  {
   "cell_type": "code",
   "execution_count": 22,
   "id": "156efcc4-0504-4e7e-a846-1c77c59f46e3",
   "metadata": {},
   "outputs": [
    {
     "name": "stdout",
     "output_type": "stream",
     "text": [
      "This\n",
      " is \n",
      "line 1 \n",
      "\n",
      "This is line 2\n"
     ]
    }
   ],
   "source": [
    "# Read certain amount of characters\n",
    "\n",
    "with open(example1, \"r\") as file1:\n",
    "    print(file1.read(4))\n",
    "    print(file1.read(4))\n",
    "    print(file1.read(7))\n",
    "    print(file1.read(15))"
   ]
  },
  {
   "cell_type": "code",
   "execution_count": 23,
   "id": "496c0fd5-8364-4ef0-8eb0-0e5ecba68e4b",
   "metadata": {},
   "outputs": [
    {
     "name": "stdout",
     "output_type": "stream",
     "text": [
      "first line: This is line 1 \n",
      "\n"
     ]
    }
   ],
   "source": [
    "# Read one line\n",
    "\n",
    "with open(example1, \"r\") as file1:\n",
    "    print(\"first line: \" + file1.readline())"
   ]
  },
  {
   "cell_type": "code",
   "execution_count": 24,
   "id": "751c7377-8f7c-43e9-a5af-98f895423b3f",
   "metadata": {},
   "outputs": [
    {
     "name": "stdout",
     "output_type": "stream",
     "text": [
      "Iteration 0 :  This is line 1 \n",
      "\n",
      "Iteration 1 :  This is line 2\n",
      "\n",
      "Iteration 2 :  This is line 3\n"
     ]
    }
   ],
   "source": [
    "# Iterate through the lines\n",
    "\n",
    "with open(example1,\"r\") as file1:\n",
    "        i = 0;\n",
    "        for line in file1:\n",
    "            print(\"Iteration\", str(i), \": \", line)\n",
    "            i = i + 1"
   ]
  },
  {
   "cell_type": "code",
   "execution_count": 26,
   "id": "c1ab818a-3b66-4d53-9670-c1c1630f8097",
   "metadata": {},
   "outputs": [],
   "source": [
    "# Read all lines and save as a list\n",
    "\n",
    "with open(example1, \"r\") as file1:\n",
    "    FileasList = file1.readlines()"
   ]
  },
  {
   "cell_type": "code",
   "execution_count": 30,
   "id": "e2f9b17d-1479-4eb9-8037-51358580bd8c",
   "metadata": {},
   "outputs": [
    {
     "name": "stdout",
     "output_type": "stream",
     "text": [
      "This is line 1 \n",
      "\n",
      "This is line 2\n",
      "\n",
      "This is line 3\n"
     ]
    }
   ],
   "source": [
    "print(FileasList[0])\n",
    "print(FileasList[1])\n",
    "print(FileasList[2])"
   ]
  },
  {
   "cell_type": "code",
   "execution_count": null,
   "id": "780f3a2d-470e-465f-a481-2dfaff8b5fa2",
   "metadata": {},
   "outputs": [],
   "source": []
  }
 ],
 "metadata": {
  "kernelspec": {
   "display_name": "Python 3 (ipykernel)",
   "language": "python",
   "name": "python3"
  },
  "language_info": {
   "codemirror_mode": {
    "name": "ipython",
    "version": 3
   },
   "file_extension": ".py",
   "mimetype": "text/x-python",
   "name": "python",
   "nbconvert_exporter": "python",
   "pygments_lexer": "ipython3",
   "version": "3.11.7"
  }
 },
 "nbformat": 4,
 "nbformat_minor": 5
}
