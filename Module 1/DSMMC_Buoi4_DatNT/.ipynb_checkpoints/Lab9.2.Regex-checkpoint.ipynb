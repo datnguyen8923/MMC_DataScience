{
 "cells": [
  {
   "cell_type": "markdown",
   "id": "9b212b08-fc78-40fc-a117-a196a49b0e81",
   "metadata": {},
   "source": [
    "Bài 1: Mở file Ex1.py và hoàn thành đoạn code để lấy các dòng được bắt đầu bằng ký tự \">\", kết quả sau khi chạy sẽ như sau:\n",
    "['>Venues', '>Marketing', '>medalists', '>Controversies', '>Paralympics', '>snowboarding', '>Netherlands', '>Norway', '>References', '>edit', '>Norway', '>Germany', '>Canada', '>Netherlands', '>Japan', '>Italy', '>Belarus', '>China', '>Slovakia', '>Slovenia', '>Belgium', '>Spain', '>Kazakhstan', '>1964', '>1968', '>1972', '>1992', '>1996', '>2000']"
   ]
  },
  {
   "cell_type": "code",
   "execution_count": 44,
   "id": "7690f0f0-68b9-4349-b72a-87da2232d0da",
   "metadata": {},
   "outputs": [
    {
     "name": "stdout",
     "output_type": "stream",
     "text": [
      "['>', '>', '>', '>', '>', '>', '>', '>', '>', '>', '>', '>', '>', '>', '>', '>', '>', '>', '>', '>', '>', '>', '>', '>', '>', '>', '>', '>', '>', '>', '>', '>', '>', '>', '>']\n"
     ]
    }
   ],
   "source": [
    "import re\n",
    "\n",
    "str = \"\"\"\n",
    ">Venues\n",
    ">Marketing\n",
    ">medalists\n",
    ">Controversies\n",
    ">Paralympics\n",
    ">snowboarding\n",
    ">[1]\n",
    ">Netherlands\n",
    ">[2]\n",
    ">Norway\n",
    ">[10]\n",
    ">[11]\n",
    ">References\n",
    ">edit\n",
    ">[12]\n",
    ">Norway\n",
    ">Germany\n",
    ">Canada\n",
    ">Netherlands\n",
    ">Japan\n",
    ">Italy\n",
    ">Belarus\n",
    ">China\n",
    ">Slovakia\n",
    "<$#%#$%\n",
    "<#$#$$\n",
    "<**&&^^\n",
    ">Slovenia\n",
    ">Belgium\n",
    ">Spain\n",
    ">Kazakhstan\n",
    ">[15]\n",
    ">1964\n",
    ">1968\n",
    ">1972\n",
    ">1992\n",
    ">1996\n",
    ">2000\"\"\"\n",
    "\n",
    "# Sử dụng biểu thức chính quy để tìm các dòng bắt đầu bằng \">\"\n",
    "data = re.findall(r'^>+', str, flags=re.MULTILINE)\n",
    "\n",
    "print(data)"
   ]
  },
  {
   "cell_type": "markdown",
   "id": "dfe90d48-6024-4994-8fcf-e27f668f735b",
   "metadata": {},
   "source": [
    "Bài 2: Mở file Ex2.py và hoàn thành đoạn code để lấy được các email có trong chuỗi đó. Kết quả sau khi chạy sẽ như sau:\n",
    "['franky@google.com', 'sinatra123@yahoo.com']"
   ]
  },
  {
   "cell_type": "code",
   "execution_count": 56,
   "id": "6e6345ff-795a-4edc-90c1-413ad3ab90b5",
   "metadata": {},
   "outputs": [
    {
     "name": "stdout",
     "output_type": "stream",
     "text": [
      "['franky@google.com', 'sinatra123@yahoo.com']\n"
     ]
    }
   ],
   "source": [
    "str1='The advancements in biomarine studies franky@google.com with the investments necessary and Davos sinatra123@yahoo.com Then The New Yorker article on wind farms...'\n",
    "#Type your answer here.\n",
    "\n",
    "regex='\\S+@\\S+'\n",
    "emails=re.findall(regex, str1)\n",
    "\n",
    "print(emails)"
   ]
  },
  {
   "cell_type": "markdown",
   "id": "f5e29059-e128-4c2c-9a75-54fb7636a14b",
   "metadata": {},
   "source": [
    "Bài 3: Mở file Ex3.py và hoàn thành đoạn code để lấy được các email có trong chuỗi đó (chỉ lấy phần ở trước ký tự '@' và ký tự '@'). Kết quả sau khi chạy sẽ như sau:\n",
    "['franky@', 'sinatra123@']"
   ]
  },
  {
   "cell_type": "code",
   "execution_count": 47,
   "id": "f338f0f5-9547-4983-bf0c-87dd619173ec",
   "metadata": {},
   "outputs": [
    {
     "name": "stdout",
     "output_type": "stream",
     "text": [
      "['franky@', 'sinatra123@']\n"
     ]
    }
   ],
   "source": [
    "regex='\\S+@'\n",
    "emails=re.findall(regex, str1)\n",
    "print(emails)"
   ]
  },
  {
   "cell_type": "markdown",
   "id": "4050e8d4-8b8c-452e-9e2c-5ae4633340b4",
   "metadata": {},
   "source": [
    "Bài 4: Mở file Ex4.py và hoàn thành đoạn code tương tự như bài 3, nhưng lần này không lấy ký tự '@' nữa. Kết quả sau khi chạy sẽ như sau:\n",
    "['franky', 'sinatra123']"
   ]
  },
  {
   "cell_type": "code",
   "execution_count": 5,
   "id": "f0db0fb8-eab5-480c-b065-7dcc705b5e8b",
   "metadata": {},
   "outputs": [
    {
     "name": "stdout",
     "output_type": "stream",
     "text": [
      "['franky', 'sinatra123']\n"
     ]
    }
   ],
   "source": [
    "str='The advancements in biomarine studies franky@google.com, with the investments necessary and Davos sinatra123@yahoo.com Then The New Yorker article on wind farms...'\n",
    "#Type your answer here.\n",
    "regex='(\\S+)@\\S+'\n",
    "emails=re.findall(regex, str)\n",
    "print(emails)"
   ]
  },
  {
   "cell_type": "markdown",
   "id": "4f3f5508-7d89-4685-b070-0c5c7db098ba",
   "metadata": {},
   "source": [
    "Bài 5: Mở file Ex5.py và hoàn thành đoạn code để trích xuất những từ có đúng 8 ký tự từ chuỗi. Kết quả sau khi chạy sẽ như sau:\n",
    "\n",
    "['empourpr', 'palmiers']"
   ]
  },
  {
   "cell_type": "code",
   "execution_count": 4,
   "id": "59b1632c-926f-4158-965a-1d9cb2dec3aa",
   "metadata": {},
   "outputs": [
    {
     "name": "stdout",
     "output_type": "stream",
     "text": [
      "['empourpr', 'palmiers']\n"
     ]
    }
   ],
   "source": [
    "import re\n",
    "str='''Au pays parfume que le soleil caresse,\n",
    "J'ai connu, sous un dais d'arbres tout empourpres\n",
    "Et de palmiers d'ou pleut sur les yeux la paresse,\n",
    "Une dame creole aux charmes ignores.'''\n",
    "\n",
    "#Type your answer here.\n",
    "\n",
    "regex=r'\\b\\w{8}\\b'\n",
    "emails=re.findall(regex, str)\n",
    "\n",
    "\n",
    "print(emails)"
   ]
  },
  {
   "cell_type": "markdown",
   "id": "4e37e059-ccfd-445b-9452-8a17c00cf8c9",
   "metadata": {},
   "source": [
    "Bài 6: Mở file Ex6.py và hoàn thành đoạn code để trích xuất những số bắt đầu với '212'. Kết quả sau khi chạy sẽ như sau:\n",
    "\n",
    "['21299']"
   ]
  },
  {
   "cell_type": "code",
   "execution_count": 11,
   "id": "49a3a4f4-3725-4735-9df3-3d7d226e0233",
   "metadata": {},
   "outputs": [
    {
     "name": "stdout",
     "output_type": "stream",
     "text": [
      "['21299']\n"
     ]
    }
   ],
   "source": [
    "str='''Ancient Script 21299: The Takenouchi documents are the ancient historical records that have been secretly preserved and passed down from generation to generation by the Takenouchi family, the head of family being the chief priest of the Koso Kotai Jingu shrine. 212-111-5932 '''\n",
    "\n",
    "#Type your answer here.\n",
    "\n",
    "regex=r'\\b212\\d+\\b'\n",
    "data=re.findall(regex, str)\n",
    "\n",
    "\n",
    "print(data)"
   ]
  },
  {
   "cell_type": "markdown",
   "id": "b8e37fa1-ef9e-430e-9e4f-a3ae18fbef49",
   "metadata": {},
   "source": [
    "*Bài 7: *Mở file Ex7.py và hoàn thành đoạn code theo yêu cầu sau. Bạn được cung cấp giá cổ phiếu cho các mã tài chính liên quan. (Biểu tượng đại diện cho các công ty trên thị trường chứng khoán). Tìm cách trích xuất các mã được đề cập trong báo cáo. tức là: TSLA, NFLX ... Kết quả sau khi chạy sẽ như sau:\n",
    "\n",
    "['TSLA', 'ORCL', 'GE', 'MSFT', 'BIDU']"
   ]
  },
  {
   "cell_type": "code",
   "execution_count": 17,
   "id": "b7317b4a-2d74-4e7a-a814-5fd806a63be1",
   "metadata": {},
   "outputs": [
    {
     "name": "stdout",
     "output_type": "stream",
     "text": [
      "['TSLA', 'ORCL', 'GE', 'MSFT', 'BIDU']\n"
     ]
    }
   ],
   "source": [
    "str=\"\"\"Some of the prices were as following TSLA:749.50, ORCL: 50.50, GE: 10.90, MSFT: 170.50, BIDU: 121.40. As the macroeconomic developments continue we will update the prices. \"\"\"\n",
    "\n",
    "#Type your answer here.\n",
    "\n",
    "regex=r'\\b[A-Z]+[A-Z]\\b'\n",
    "data=re.findall(regex, str)\n",
    "\n",
    "\n",
    "print(data)"
   ]
  },
  {
   "cell_type": "markdown",
   "id": "88b93212-2d05-4b1f-8063-d6235594c055",
   "metadata": {},
   "source": [
    "Bài 8: Mở file Ex8.py và hoàn thành đoạn code để trích xuất các thẻ html có nhiều hơn 4 chữ cái. Các thẻ html mở có thể được tìm thấy bên trong các ký tự <> và các thẻ html đóng có thể được tìm thấy ở cùng một định dạng sau ký tự </>, ví dụ . Kết quả sau khi chạy sẽ như sau:\n",
    "\n",
    "['video', 'center', 'button']"
   ]
  },
  {
   "cell_type": "code",
   "execution_count": 27,
   "id": "82880efe-20b0-4c05-8db0-d455a4beacd8",
   "metadata": {},
   "outputs": [
    {
     "name": "stdout",
     "output_type": "stream",
     "text": [
      "['video', 'center', 'button']\n"
     ]
    }
   ],
   "source": [
    "str=\"\"\"<div class=\"tut-list tut-list-new tut-row \">\n",
    "<div class=\"tut-list-primary\"> <div class=\"tut-vote\">\n",
    "<video>intro</video>\n",
    "<span class=\"count\">50</span> <span class=\"tut-upvotes-text hidden\">Upvotes</span> </a> </div>\n",
    "<center>k=\"11\" rel=\"nofollow\"></center>\n",
    "<span class=\"tutorial-title-txt\">Automate the Boring Stuff with Python</span>\n",
    "<span class=\"tut-title-link\">  <span class=\"js-tutorial\" data-id=\"3529\"\n",
    "title=\"Automate the Boring Stuff with Python\" target=\"_blank\">(udemy.com)</span>\n",
    "</span>  </a></div> <div class=\"action-footer\">\n",
    "<form class=\"save-tutorial-form\" method=\"post\" <button></button> </form>\"\"\"\n",
    "\n",
    "#Type your answer here.\n",
    "\n",
    "regex=r'<(\\w{5,})>'\n",
    "data=re.findall(regex, str)\n",
    "\n",
    "\n",
    "print(data)"
   ]
  },
  {
   "cell_type": "code",
   "execution_count": null,
   "id": "33df09ac-7b9b-4f55-8921-a0dae842956e",
   "metadata": {},
   "outputs": [],
   "source": []
  }
 ],
 "metadata": {
  "kernelspec": {
   "display_name": "Python 3 (ipykernel)",
   "language": "python",
   "name": "python3"
  },
  "language_info": {
   "codemirror_mode": {
    "name": "ipython",
    "version": 3
   },
   "file_extension": ".py",
   "mimetype": "text/x-python",
   "name": "python",
   "nbconvert_exporter": "python",
   "pygments_lexer": "ipython3",
   "version": "3.11.7"
  }
 },
 "nbformat": 4,
 "nbformat_minor": 5
}
